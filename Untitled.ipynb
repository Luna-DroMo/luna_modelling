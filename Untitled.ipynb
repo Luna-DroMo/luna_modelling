{
 "cells": [
  {
   "cell_type": "code",
   "execution_count": 27,
   "id": "89bbccc1-ae1d-4936-87a1-1a83f259b369",
   "metadata": {},
   "outputs": [
    {
     "data": {
      "text/plain": [
       "0"
      ]
     },
     "execution_count": 27,
     "metadata": {},
     "output_type": "execute_result"
    }
   ],
   "source": [
    "def missingNumber(nums ) -> int:\n",
    "    n = len(nums)\n",
    "    v = [-1] * (n + 1)\n",
    "    for num in nums:\n",
    "        v[num] = num\n",
    "    for i in range(len(v)):\n",
    "        if v[i] == -1:\n",
    "            return i\n",
    "\n",
    "missingNumber([1,2,3])"
   ]
  },
  {
   "cell_type": "code",
   "execution_count": 37,
   "id": "aa09f02f-2695-475a-9b88-2092cdc1d0f2",
   "metadata": {},
   "outputs": [
    {
     "data": {
      "text/plain": [
       "[-1, 1, 2, 3]"
      ]
     },
     "execution_count": 37,
     "metadata": {},
     "output_type": "execute_result"
    }
   ],
   "source": [
    "nums = [1,2,3]\n",
    "n = len(nums)\n",
    "v = [-1] * (n+1)\n",
    "for num in nums:\n",
    "    v[num] = num\n",
    "\n",
    "v"
   ]
  },
  {
   "cell_type": "code",
   "execution_count": null,
   "id": "c276521e-0408-4196-8151-ae1f150dff62",
   "metadata": {},
   "outputs": [],
   "source": []
  }
 ],
 "metadata": {
  "kernelspec": {
   "display_name": "Python 3 (ipykernel)",
   "language": "python",
   "name": "python3"
  },
  "language_info": {
   "codemirror_mode": {
    "name": "ipython",
    "version": 3
   },
   "file_extension": ".py",
   "mimetype": "text/x-python",
   "name": "python",
   "nbconvert_exporter": "python",
   "pygments_lexer": "ipython3",
   "version": "3.9.18"
  }
 },
 "nbformat": 4,
 "nbformat_minor": 5
}
